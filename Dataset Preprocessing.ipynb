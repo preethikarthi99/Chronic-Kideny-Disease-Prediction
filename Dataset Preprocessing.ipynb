{
 "cells": [
  {
   "cell_type": "code",
   "execution_count": null,
   "metadata": {},
   "outputs": [],
   "source": [
    "import numpy as np\n",
    "import pandas as pd"
   ]
  },
  {
   "cell_type": "code",
   "execution_count": null,
   "metadata": {},
   "outputs": [],
   "source": [
    "# Read dataset file ckd.csv\n",
    "dataset = pd.read_csv(\"kidney_disease_no_id.csv\",header=0, na_values=\"?\")\n"
   ]
  },
  {
   "cell_type": "code",
   "execution_count": null,
   "metadata": {},
   "outputs": [],
   "source": [
    "# Replace null values \"?\" by numpy.NaN\n",
    "dataset.replace(\"?\", np.NaN)\n"
   ]
  },
  {
   "cell_type": "code",
   "execution_count": null,
   "metadata": {},
   "outputs": [],
   "source": [
    "# Convert nominal values to binary values\n",
    "cleanup = {\"rbc\":     {\"normal\": 1, \"abnormal\": 0},\n",
    "           \"pc\": {\"normal\": 1, \"abnormal\": 0},\n",
    "           \"pcc\": {\"present\": 1, \"notpresent\": 0},\n",
    "           \"ba\": {\"present\": 1, \"notpresent\": 0},\n",
    "           \"htn\": {\"yes\": 1, \"no\": 0},\n",
    "           \"dm\": {\"yes\": 1, \"no\": 0},\n",
    "           \"cad\": {\"yes\": 1, \"no\": 0},\n",
    "           \"appet\": {\"good\": 1, \"poor\": 0},\n",
    "           \"pe\": {\"yes\": 1, \"no\": 0},\n",
    "           \"ane\": {\"yes\": 1, \"no\": 0}}\n"
   ]
  },
  {
   "cell_type": "code",
   "execution_count": null,
   "metadata": {},
   "outputs": [],
   "source": [
    "# Replace binary values into dataset\n",
    "dataset.replace(cleanup, inplace=True)\n"
   ]
  },
  {
   "cell_type": "code",
   "execution_count": null,
   "metadata": {},
   "outputs": [],
   "source": [
    "# Fill null values with mean value of the respective column\n",
    "dataset.fillna(round(dataset.mean(),2), inplace=True)\n"
   ]
  },
  {
   "cell_type": "code",
   "execution_count": null,
   "metadata": {},
   "outputs": [],
   "source": [
    "dataset.to_csv(\"Preprocessed_ckd.csv\", sep=',', index=False)"
   ]
  },
  {
   "cell_type": "code",
   "execution_count": null,
   "metadata": {},
   "outputs": [],
   "source": [
    "data =pd.read_csv('Preprocessed_ckd.csv')\n",
    "data"
   ]
  },
  {
   "cell_type": "code",
   "execution_count": null,
   "metadata": {},
   "outputs": [],
   "source": [
    "data.corr()"
   ]
  },
  {
   "cell_type": "code",
   "execution_count": null,
   "metadata": {},
   "outputs": [],
   "source": [
    "columns_to_retain = [\"Sg\", \"Al\", \"Hemo\", \"Pcv\", \"Rbcc\", \"Htn\", \"Dm\", \"Class\"]\n",
    "modified_data = data.drop([col for col in data.columns if not col in columns_to_retain], axis=1)\n",
    "modified_data"
   ]
  },
  {
   "cell_type": "code",
   "execution_count": null,
   "metadata": {},
   "outputs": [],
   "source": [
    "modified_data.to_csv('modified_ckd_with_1_and_0.csv', sep=',', index=False)"
   ]
  },
  {
   "cell_type": "code",
   "execution_count": null,
   "metadata": {},
   "outputs": [],
   "source": [
    "cleanup = {\"Htn\": {1: \"yes\", 0: \"no\"},\n",
    "           \"Dm\": {1: \"yes\", 0: \"no\"},\n",
    "           \"Class\": {1: \"yes\", 0: \"no\"}}"
   ]
  },
  {
   "cell_type": "code",
   "execution_count": null,
   "metadata": {},
   "outputs": [],
   "source": [
    "modified_data.replace(cleanup, inplace=True)\n",
    "modified_data"
   ]
  },
  {
   "cell_type": "code",
   "execution_count": null,
   "metadata": {},
   "outputs": [],
   "source": [
    "modified_data.to_csv('final_modified_ckd_for_prediction.csv', sep=',', index=False)"
   ]
  }
 ],
 "metadata": {
  "kernelspec": {
   "display_name": "Python 3",
   "language": "python",
   "name": "python3"
  },
  "language_info": {
   "codemirror_mode": {
    "name": "ipython",
    "version": 3
   },
   "file_extension": ".py",
   "mimetype": "text/x-python",
   "name": "python",
   "nbconvert_exporter": "python",
   "pygments_lexer": "ipython3",
   "version": "3.7.3"
  }
 },
 "nbformat": 4,
 "nbformat_minor": 2
}
